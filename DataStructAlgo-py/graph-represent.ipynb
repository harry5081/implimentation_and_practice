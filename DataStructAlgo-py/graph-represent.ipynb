{
 "cells": [
  {
   "cell_type": "code",
   "execution_count": 123,
   "metadata": {},
   "outputs": [],
   "source": [
    "import numpy as np"
   ]
  },
  {
   "attachments": {},
   "cell_type": "markdown",
   "metadata": {},
   "source": [
    "Adjacency Matrix: advantageous for complete graph\n",
    "Adjacency List: advantageous when num of edges are few (dict)"
   ]
  },
  {
   "cell_type": "code",
   "execution_count": 124,
   "metadata": {},
   "outputs": [],
   "source": [
    "NUM_NODES = 5\n",
    "adj_mx = np.zeros((NUM_NODES,NUM_NODES))"
   ]
  },
  {
   "cell_type": "code",
   "execution_count": 125,
   "metadata": {},
   "outputs": [],
   "source": [
    "class Graph:\n",
    "    def __init__(self, graph_dict = None):\n",
    "        if graph_dict is None:\n",
    "            graph_dict = {}\n",
    "        self.graph_dict = graph_dict\n",
    "\n",
    "    def add_nghbor(self, vertex, nghbor):\n",
    "        self.graph_dict[vertex].append(nghbor)\n",
    "        "
   ]
  },
  {
   "cell_type": "code",
   "execution_count": 126,
   "metadata": {},
   "outputs": [
    {
     "name": "stdout",
     "output_type": "stream",
     "text": [
      "{'A': ['B', 'G', 'Z'], 'B': ['C', 'Z'], 'C': ['A'], 'G': ['B', 'C', 'A'], 'Z': ['J']}\n"
     ]
    }
   ],
   "source": [
    "\n",
    "adj_list = {\"A\":[\"B\",\"G\"],\n",
    "            \"B\":[\"C\",\"Z\"],\n",
    "            \"C\":[\"A\"],\n",
    "            \"G\":[\"B\",\"C\",\"A\"],\n",
    "            \"Z\":[]}\n",
    "graph = Graph(adj_list)\n",
    "graph.add_nghbor(\"A\",\"Z\")\n",
    "graph.add_nghbor(\"Z\",\"J\")\n",
    "print(graph.graph_dict)"
   ]
  },
  {
   "cell_type": "code",
   "execution_count": 127,
   "metadata": {},
   "outputs": [],
   "source": [
    "class Graph:\n",
    "    def __init__(self):\n",
    "        self.adj_list = {}\n",
    "\n",
    "    def add_vertex(self, vertex):\n",
    "        if vertex not in self.adj_list.keys():\n",
    "            self.adj_list[vertex] = []\n",
    "            return True\n",
    "        return False\n",
    "    \n",
    "    def add_edge(self, vertex1, vertex2):\n",
    "        if vertex1 in self.adj_list.keys() and vertex1 in self.adj_list.keys():\n",
    "            self.adj_list[vertex1].append(vertex2)\n",
    "            self.adj_list[vertex2].append(vertex1)\n",
    "            return True\n",
    "        return False\n",
    "    \n",
    "    def print_graph(self):\n",
    "        for vertex in self.adj_list:\n",
    "            print(vertex, \":\", self.adj_list[vertex])\n",
    "\n",
    "    def bfs_sol(self, vertex): \n",
    "        visited = set()\n",
    "        visited.add(vertex)\n",
    "        queue = [vertex]\n",
    "        while queue:\n",
    "            cur_vertex = queue.pop(0)\n",
    "            print(cur_vertex)\n",
    "            for adj_vertex in self.adj_list[cur_vertex]:\n",
    "                if adj_vertex not in visited:\n",
    "                    visited.add(adj_vertex)\n",
    "                    queue.append(adj_vertex)\n",
    "    \n",
    "    def bfs_my2(self, vertex): \n",
    "        visited = [vertex]          # mark the starting vertex\n",
    "        queue = [vertex]\n",
    "        while queue:\n",
    "            cur_vertex = queue.pop(0)\n",
    "            for adj_vertex in self.adj_list[cur_vertex]:\n",
    "                if adj_vertex not in visited:\n",
    "                    visited.append(adj_vertex)      # mark the nghbors \n",
    "                    queue.append(adj_vertex)\n",
    "        return visited"
   ]
  },
  {
   "cell_type": "code",
   "execution_count": 128,
   "metadata": {},
   "outputs": [
    {
     "name": "stdout",
     "output_type": "stream",
     "text": [
      "A : ['B', 'E']\n",
      "B : ['A', 'E', 'C']\n",
      "C : ['D', 'B']\n",
      "D : ['C']\n",
      "E : ['A', 'B']\n"
     ]
    }
   ],
   "source": [
    "graph = Graph()\n",
    "graph.add_vertex(\"A\")\n",
    "graph.add_vertex(\"B\")\n",
    "graph.add_vertex(\"C\")\n",
    "graph.add_vertex(\"D\")\n",
    "graph.add_vertex(\"E\")\n",
    "graph.add_edge(\"A\",\"B\")\n",
    "graph.add_edge(\"A\",\"E\")\n",
    "graph.add_edge(\"C\",\"D\")\n",
    "graph.add_edge(\"E\",\"B\")\n",
    "graph.add_edge(\"C\",\"B\")\n",
    "graph.print_graph()"
   ]
  },
  {
   "cell_type": "code",
   "execution_count": 129,
   "metadata": {},
   "outputs": [
    {
     "name": "stdout",
     "output_type": "stream",
     "text": [
      "A\n",
      "B\n",
      "E\n",
      "C\n",
      "D\n"
     ]
    }
   ],
   "source": [
    "graph.bfs_sol(\"A\")"
   ]
  },
  {
   "cell_type": "code",
   "execution_count": 130,
   "metadata": {},
   "outputs": [
    {
     "name": "stdout",
     "output_type": "stream",
     "text": [
      "['A', 'B', 'E', 'C', 'D']\n"
     ]
    }
   ],
   "source": [
    "explore_seq = graph.bfs_my2(\"A\")\n",
    "print(explore_seq)"
   ]
  }
 ],
 "metadata": {
  "kernelspec": {
   "display_name": "Python 3",
   "language": "python",
   "name": "python3"
  },
  "language_info": {
   "codemirror_mode": {
    "name": "ipython",
    "version": 3
   },
   "file_extension": ".py",
   "mimetype": "text/x-python",
   "name": "python",
   "nbconvert_exporter": "python",
   "pygments_lexer": "ipython3",
   "version": "3.8.10"
  },
  "orig_nbformat": 4
 },
 "nbformat": 4,
 "nbformat_minor": 2
}
